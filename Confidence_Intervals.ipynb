{
  "nbformat": 4,
  "nbformat_minor": 0,
  "metadata": {
    "colab": {
      "provenance": [],
      "authorship_tag": "ABX9TyOvX0nND+glUnIEkxbJOc7v",
      "include_colab_link": true
    },
    "kernelspec": {
      "name": "python3",
      "display_name": "Python 3"
    },
    "language_info": {
      "name": "python"
    }
  },
  "cells": [
    {
      "cell_type": "markdown",
      "metadata": {
        "id": "view-in-github",
        "colab_type": "text"
      },
      "source": [
        "<a href=\"https://colab.research.google.com/github/mohripan/Bayesian-Statistics/blob/main/Confidence_Intervals.ipynb\" target=\"_parent\"><img src=\"https://colab.research.google.com/assets/colab-badge.svg\" alt=\"Open In Colab\"/></a>"
      ]
    },
    {
      "cell_type": "code",
      "execution_count": 1,
      "metadata": {
        "id": "18EZlQ5dNqwm"
      },
      "outputs": [],
      "source": [
        "import numpy as np\n",
        "from scipy.stats import norm, t"
      ]
    },
    {
      "cell_type": "code",
      "source": [
        "np.random.seed(1)"
      ],
      "metadata": {
        "id": "-uJ1DuxlNwvn"
      },
      "execution_count": 2,
      "outputs": []
    },
    {
      "cell_type": "code",
      "source": [
        "N = 1000\n",
        "mu = 5\n",
        "sigma = 2\n",
        "X = np.random.randn(N) * sigma + mu"
      ],
      "metadata": {
        "id": "OH9EPyNfNx-0"
      },
      "execution_count": 3,
      "outputs": []
    },
    {
      "cell_type": "code",
      "source": [
        "# Z-confidence interval\n",
        "mu_hat = np.mean(X)\n",
        "sigma_hat = np.std(X, ddof = 1)\n",
        "z_left = norm.ppf(0.025)\n",
        "z_right = norm.ppf(0.975)\n",
        "lower = mu_hat + z_left * sigma_hat / np.sqrt(N)\n",
        "upper = mu_hat + z_right * sigma_hat / np.sqrt(N)\n",
        "print(mu_hat, lower, upper)"
      ],
      "metadata": {
        "colab": {
          "base_uri": "https://localhost:8080/"
        },
        "id": "a90L6BHpN39U",
        "outputId": "7e127165-80a0-42dc-f99e-67e9881f8b61"
      },
      "execution_count": 4,
      "outputs": [
        {
          "output_type": "stream",
          "name": "stdout",
          "text": [
            "5.077624952319204 4.955959806754385 5.199290097884023\n"
          ]
        }
      ]
    },
    {
      "cell_type": "code",
      "source": [
        "mu_hat = X.mean()\n",
        "sigma_hat = X.std(ddof = 1)\n",
        "t_left = t.ppf(0.025, df = N - 1)\n",
        "t_right = t.ppf(0.975, df = N - 1)\n",
        "lower = mu_hat + t_left * sigma_hat / np.sqrt(N)\n",
        "upper = mu_hat + t_right * sigma_hat / np.sqrt(N)\n",
        "print(mu_hat, lower, upper)"
      ],
      "metadata": {
        "colab": {
          "base_uri": "https://localhost:8080/"
        },
        "id": "fYcLO3tvOdfO",
        "outputId": "2e337542-f3bb-4722-8f91-56c85dac5f30"
      },
      "execution_count": 5,
      "outputs": [
        {
          "output_type": "stream",
          "name": "stdout",
          "text": [
            "5.077624952319204 4.9558122244324165 5.199437680205992\n"
          ]
        }
      ]
    },
    {
      "cell_type": "code",
      "source": [],
      "metadata": {
        "id": "5QxXfdxJO_-Y"
      },
      "execution_count": null,
      "outputs": []
    }
  ]
}